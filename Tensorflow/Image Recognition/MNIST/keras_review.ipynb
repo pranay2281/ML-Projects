{
  "nbformat": 4,
  "nbformat_minor": 0,
  "metadata": {
    "colab": {
      "provenance": [],
      "authorship_tag": "ABX9TyOv1NyKGW84oVOoUjsN28Bk",
      "include_colab_link": true
    },
    "kernelspec": {
      "name": "python3",
      "display_name": "Python 3"
    },
    "language_info": {
      "name": "python"
    }
  },
  "cells": [
    {
      "cell_type": "markdown",
      "metadata": {
        "id": "view-in-github",
        "colab_type": "text"
      },
      "source": [
        "<a href=\"https://colab.research.google.com/github/pranay2281/ML-Projects/blob/main/Tensorflow/Image%20Recognition/MNIST/keras_review.ipynb\" target=\"_parent\"><img src=\"https://colab.research.google.com/assets/colab-badge.svg\" alt=\"Open In Colab\"/></a>"
      ]
    },
    {
      "cell_type": "code",
      "execution_count": null,
      "metadata": {
        "colab": {
          "base_uri": "https://localhost:8080/"
        },
        "id": "y2BAbQVSCby9",
        "outputId": "0dff7185-e3b2-4494-be9f-c46ad4ee4800"
      },
      "outputs": [
        {
          "output_type": "stream",
          "name": "stdout",
          "text": [
            "Downloading data from https://storage.googleapis.com/tensorflow/tf-keras-datasets/mnist.npz\n",
            "11493376/11490434 [==============================] - 0s 0us/step\n",
            "11501568/11490434 [==============================] - 0s 0us/step\n"
          ]
        }
      ],
      "source": [
        "import tensorflow as tf\n",
        "(X_train,y_train),(X_val,y_val) = tf.keras.datasets.mnist.load_data()"
      ]
    },
    {
      "cell_type": "code",
      "source": [
        "X_train = X_train.astype('float32')/255.0\n",
        "X_val = X_val.astype('float32')/255.0"
      ],
      "metadata": {
        "id": "yeMB1TwXC51i"
      },
      "execution_count": null,
      "outputs": []
    },
    {
      "cell_type": "code",
      "source": [
        "X_train = X_train.reshape((60000,28**2))\n",
        "X_val = X_val.reshape((10000,28**2))"
      ],
      "metadata": {
        "id": "QgehmuwsDIsj"
      },
      "execution_count": null,
      "outputs": []
    },
    {
      "cell_type": "code",
      "source": [
        "from tensorflow import keras\n",
        "from tensorflow.keras import layers\n",
        "\n",
        "model = keras.Sequential([layers.Dense(512, activation='relu'),\n",
        "                          layers.Dense(10,activation = 'softmax')\n",
        "                          ])\n"
      ],
      "metadata": {
        "id": "RHt9XIsgDYkv"
      },
      "execution_count": null,
      "outputs": []
    },
    {
      "cell_type": "code",
      "source": [
        "model.compile(optimizer='rmsprop',\n",
        "              loss='sparse_categorical_crossentropy',\n",
        "              metrics=['accuracy'])\n"
      ],
      "metadata": {
        "id": "HuX70H0tEX3S"
      },
      "execution_count": null,
      "outputs": []
    },
    {
      "cell_type": "code",
      "source": [
        "history = model.fit(X_train,y_train,epochs=10,batch_size=128,validation_data=(X_val,y_val))"
      ],
      "metadata": {
        "colab": {
          "base_uri": "https://localhost:8080/"
        },
        "id": "qjpTfW5fEyrZ",
        "outputId": "89b23330-c11c-4055-974f-a4ad24aaf2e0"
      },
      "execution_count": null,
      "outputs": [
        {
          "output_type": "stream",
          "name": "stdout",
          "text": [
            "Epoch 1/10\n",
            "469/469 [==============================] - 6s 11ms/step - loss: 0.2574 - accuracy: 0.9249 - val_loss: 0.1263 - val_accuracy: 0.9622\n",
            "Epoch 2/10\n",
            "469/469 [==============================] - 5s 11ms/step - loss: 0.1042 - accuracy: 0.9689 - val_loss: 0.0850 - val_accuracy: 0.9726\n",
            "Epoch 3/10\n",
            "469/469 [==============================] - 5s 11ms/step - loss: 0.0696 - accuracy: 0.9793 - val_loss: 0.0739 - val_accuracy: 0.9784\n",
            "Epoch 4/10\n",
            "469/469 [==============================] - 6s 13ms/step - loss: 0.0504 - accuracy: 0.9853 - val_loss: 0.0754 - val_accuracy: 0.9769\n",
            "Epoch 5/10\n",
            "469/469 [==============================] - 9s 19ms/step - loss: 0.0378 - accuracy: 0.9884 - val_loss: 0.0648 - val_accuracy: 0.9801\n",
            "Epoch 6/10\n",
            "469/469 [==============================] - 6s 14ms/step - loss: 0.0293 - accuracy: 0.9911 - val_loss: 0.0625 - val_accuracy: 0.9810\n",
            "Epoch 7/10\n",
            "469/469 [==============================] - 5s 11ms/step - loss: 0.0224 - accuracy: 0.9935 - val_loss: 0.0667 - val_accuracy: 0.9787\n",
            "Epoch 8/10\n",
            "469/469 [==============================] - 5s 11ms/step - loss: 0.0173 - accuracy: 0.9951 - val_loss: 0.0656 - val_accuracy: 0.9805\n",
            "Epoch 9/10\n",
            "469/469 [==============================] - 5s 11ms/step - loss: 0.0135 - accuracy: 0.9961 - val_loss: 0.0676 - val_accuracy: 0.9815\n",
            "Epoch 10/10\n",
            "469/469 [==============================] - 6s 13ms/step - loss: 0.0107 - accuracy: 0.9971 - val_loss: 0.0749 - val_accuracy: 0.9806\n"
          ]
        }
      ]
    },
    {
      "cell_type": "code",
      "source": [
        "training_accuracy = history.history['accuracy']\n",
        "val_accuracy=history.history['val_accuracy']\n",
        "import matplotlib.pyplot as plt\n",
        "plt.plot(training_accuracy,label='training accuracy')\n",
        "plt.plot(val_accuracy,label='validation_accuracy')\n",
        "plt.legend()\n",
        "plt.title(\"Classification accuracy vs. epochs\")"
      ],
      "metadata": {
        "colab": {
          "base_uri": "https://localhost:8080/",
          "height": 299
        },
        "id": "fSoEztxQFYti",
        "outputId": "9067fd37-b110-45ce-a2be-bfafa1394430"
      },
      "execution_count": null,
      "outputs": [
        {
          "output_type": "execute_result",
          "data": {
            "text/plain": [
              "Text(0.5, 1.0, 'Classification accuracy vs. epochs')"
            ]
          },
          "metadata": {},
          "execution_count": 9
        },
        {
          "output_type": "display_data",
          "data": {
            "text/plain": [
              "<Figure size 432x288 with 1 Axes>"
            ],
            "image/png": "[encoded data removed]"
          },
          "metadata": {
            "needs_background": "light"
          }
        }
      ]
    },
    {
      "cell_type": "code",
      "source": [
        "plt.figure()\n",
        "training_loss = history.history['loss']\n",
        "val_loss = history.history['val_loss']\n",
        "plt.plot(training_loss,label='training loss')\n",
        "plt.plot(val_loss, label = 'validation loss')\n",
        "plt.legend()\n",
        "plt.title(\"Objective function value vs epochs\")"
      ],
      "metadata": {
        "colab": {
          "base_uri": "https://localhost:8080/",
          "height": 299
        },
        "id": "MakKza_cGAwt",
        "outputId": "5fd4510d-c4ef-4c36-b32d-b637b5c3203a"
      },
      "execution_count": null,
      "outputs": [
        {
          "output_type": "execute_result",
          "data": {
            "text/plain": [
              "Text(0.5, 1.0, 'Objective function value vs epochs')"
            ]
          },
          "metadata": {},
          "execution_count": 10
        },
        {
          "output_type": "display_data",
          "data": {
            "text/plain": [
              "<Figure size 432x288 with 1 Axes>"
            ],
            "image/png": "[encoded data removed]"
          },
          "metadata": {
            "needs_background": "light"
          }
        }
      ]
    },
    {
      "cell_type": "code",
      "source": [
        "#now define our neural network in a different way, using more flexible syntax\n",
        "\n",
        "#this is using a 'functional API' -- it is just a different way to define a neural network in Keras\n",
        "inputs = keras.Input(shape=(784,))\n",
        "x1 = layers.Dense(512,activation='relu')(inputs)\n",
        "outputs = layers.Dense(10,activation='softmax')(x1)\n",
        "model = keras.Model(inputs = inputs, outputs=outputs)"
      ],
      "metadata": {
        "id": "RrOl23BiJ_zQ"
      },
      "execution_count": null,
      "outputs": []
    },
    {
      "cell_type": "code",
      "source": [
        "model.compile(optimizer='rmsprop',\n",
        "              loss='sparse_categorical_crossentropy',\n",
        "              metrics=['accuracy'])\n",
        "\n",
        "history = model.fit(X_train,y_train,epochs=5,batch_size=128,validation_data=(X_val,y_val))"
      ],
      "metadata": {
        "colab": {
          "base_uri": "https://localhost:8080/"
        },
        "id": "hbxM1brDLsY9",
        "outputId": "9156f1e1-54ab-4862-eea7-f2d5cb0e444a"
      },
      "execution_count": null,
      "outputs": [
        {
          "output_type": "stream",
          "name": "stdout",
          "text": [
            "Epoch 1/5\n",
            "469/469 [==============================] - 6s 11ms/step - loss: 0.0702 - accuracy: 0.9786 - val_loss: 0.0787 - val_accuracy: 0.9776\n",
            "Epoch 2/5\n",
            "469/469 [==============================] - 5s 11ms/step - loss: 0.0503 - accuracy: 0.9849 - val_loss: 0.0719 - val_accuracy: 0.9772\n",
            "Epoch 3/5\n",
            "469/469 [==============================] - 5s 11ms/step - loss: 0.0381 - accuracy: 0.9885 - val_loss: 0.0648 - val_accuracy: 0.9804\n",
            "Epoch 4/5\n",
            "469/469 [==============================] - 5s 11ms/step - loss: 0.0283 - accuracy: 0.9917 - val_loss: 0.0633 - val_accuracy: 0.9805\n",
            "Epoch 5/5\n",
            "469/469 [==============================] - 5s 11ms/step - loss: 0.0226 - accuracy: 0.9932 - val_loss: 0.0655 - val_accuracy: 0.9809\n"
          ]
        }
      ]
    }
  ]
}