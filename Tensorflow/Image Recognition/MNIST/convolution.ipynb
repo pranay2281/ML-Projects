{
  "cells": [
    {
      "cell_type": "markdown",
      "metadata": {
        "id": "view-in-github",
        "colab_type": "text"
      },
      "source": [
        "<a href=\"https://colab.research.google.com/github/pranay2281/ML-Projects/blob/main/Tensorflow/Image%20Recognition/MNIST/convolution.ipynb\" target=\"_parent\"><img src=\"https://colab.research.google.com/assets/colab-badge.svg\" alt=\"Open In Colab\"/></a>"
      ]
    },
    {
      "cell_type": "code",
      "execution_count": null,
      "metadata": {
        "colab": {
          "base_uri": "https://localhost:8080/"
        },
        "id": "rXXe8CApdHfs",
        "outputId": "84dfa1f1-081e-4ada-a981-02c2936724dc"
      },
      "outputs": [
        {
          "name": "stdout",
          "output_type": "stream",
          "text": [
            "Downloading data from https://storage.googleapis.com/tensorflow/tf-keras-datasets/mnist.npz\n",
            "11493376/11490434 [==============================] - 0s 0us/step\n",
            "11501568/11490434 [==============================] - 0s 0us/step\n"
          ]
        }
      ],
      "source": [
        "import tensorflow as tf\n",
        "\n",
        "(X_train,y_train),(X_val,y_val)=tf.keras.datasets.mnist.load_data()\n",
        "X_train = X_train.astype('float32')/255\n",
        "X_val = X_val.astype('float32')/255\n"
      ]
    },
    {
      "cell_type": "code",
      "execution_count": null,
      "metadata": {
        "id": "3Vcj2EKFdj7J"
      },
      "outputs": [],
      "source": [
        "N_train,num_rows,num_cols = X_train.shape\n",
        "\n",
        "inputs = tf.keras.Input(shape=(num_rows,num_cols,1))\n",
        "x1 = tf.keras.layers.Conv2D(filters=16,kernel_size=(3,3),activation='relu')(inputs)\n",
        "x2 = tf.keras.layers.MaxPooling2D(pool_size=2)(x1)\n",
        "\n",
        "x3 = tf.keras.layers.Conv2D(filters=32,kernel_size=(3,3),activation='relu')(x2)\n",
        "x4 = tf.keras.layers.Flatten()(x3)\n",
        "\n",
        "outputs = tf.keras.layers.Dense(10,activation='softmax')(x4)\n",
        "\n",
        "model = tf.keras.Model(inputs=inputs,outputs=outputs)\n",
        "\n"
      ]
    },
    {
      "cell_type": "code",
      "execution_count": null,
      "metadata": {
        "colab": {
          "background_save": true,
          "base_uri": "https://localhost:8080/"
        },
        "id": "vyj1ziNPgaDI",
        "outputId": "f341aff9-673a-497b-d919-518caed215d8"
      },
      "outputs": [
        {
          "name": "stdout",
          "output_type": "stream",
          "text": [
            "Epoch 1/10\n",
            "469/469 [==============================] - 23s 47ms/step - loss: 0.2383 - accuracy: 0.9315 - val_loss: 0.0921 - val_accuracy: 0.9709\n",
            "Epoch 2/10\n",
            "469/469 [==============================] - 22s 47ms/step - loss: 0.0761 - accuracy: 0.9773 - val_loss: 0.0639 - val_accuracy: 0.9808\n",
            "Epoch 3/10\n",
            "469/469 [==============================] - 22s 48ms/step - loss: 0.0558 - accuracy: 0.9833 - val_loss: 0.0485 - val_accuracy: 0.9854\n",
            "Epoch 4/10\n",
            "469/469 [==============================] - 22s 47ms/step - loss: 0.0442 - accuracy: 0.9871 - val_loss: 0.0384 - val_accuracy: 0.9878\n",
            "Epoch 5/10\n",
            "469/469 [==============================] - 22s 48ms/step - loss: 0.0376 - accuracy: 0.9887 - val_loss: 0.0359 - val_accuracy: 0.9873\n",
            "Epoch 6/10\n",
            "469/469 [==============================] - 22s 48ms/step - loss: 0.0325 - accuracy: 0.9899 - val_loss: 0.0335 - val_accuracy: 0.9888\n",
            "Epoch 7/10\n",
            "469/469 [==============================] - 22s 47ms/step - loss: 0.0288 - accuracy: 0.9914 - val_loss: 0.0308 - val_accuracy: 0.9890\n",
            "Epoch 8/10\n",
            "469/469 [==============================] - 22s 47ms/step - loss: 0.0254 - accuracy: 0.9930 - val_loss: 0.0332 - val_accuracy: 0.9892\n",
            "Epoch 9/10\n",
            "469/469 [==============================] - 22s 47ms/step - loss: 0.0225 - accuracy: 0.9933 - val_loss: 0.0348 - val_accuracy: 0.9883\n",
            "Epoch 10/10\n",
            "469/469 [==============================] - 22s 47ms/step - loss: 0.0208 - accuracy: 0.9938 - val_loss: 0.0330 - val_accuracy: 0.9899\n"
          ]
        }
      ],
      "source": [
        "model.compile(optimizer='rmsprop',loss='sparse_categorical_crossentropy',metrics=['accuracy'])\n",
        "history = model.fit(X_train,y_train,epochs=10,batch_size=128,validation_data=(X_val,y_val))"
      ]
    }
  ],
  "metadata": {
    "colab": {
      "provenance": [],
      "authorship_tag": "ABX9TyM8GdZLn3/s19JXy+6l2wOZ",
      "include_colab_link": true
    },
    "kernelspec": {
      "display_name": "Python 3",
      "name": "python3"
    },
    "language_info": {
      "name": "python"
    }
  },
  "nbformat": 4,
  "nbformat_minor": 0
}